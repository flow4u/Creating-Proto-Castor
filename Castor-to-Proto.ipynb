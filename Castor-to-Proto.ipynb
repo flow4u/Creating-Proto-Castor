{
 "cells": [
  {
   "cell_type": "markdown",
   "id": "fe40b09b-c646-41d7-86c8-5f69f67b0869",
   "metadata": {},
   "source": [
    "# Creating a Proto-Castor\n",
    "\n",
    "Proto-Castor is the daily to which is added per record the base. This Jupyter Notebook is optimized for myDRE Workspace using OSDS template.\n",
    "\n",
    "Use **configuration.xlsx** to change the variables.\n",
    "\n",
    "Upload Castor export as zipt to Workspace, choose as target: ./EDC.\n",
    "\n",
    "If the zip ends up in transfer (so not in ./EDC), the script will deal with it."
   ]
  },
  {
   "cell_type": "code",
   "execution_count": 1,
   "id": "a5bf6434-b51c-48c2-9736-c0d420127332",
   "metadata": {},
   "outputs": [],
   "source": [
    "import pandas as pd\n",
    "import shutil\n",
    "import glob\n",
    "import generic_functions2 as gf"
   ]
  },
  {
   "cell_type": "code",
   "execution_count": 2,
   "id": "6a4a3e1d-cfe0-45e0-8c70-1cef84ba3c44",
   "metadata": {},
   "outputs": [],
   "source": [
    "# Settings\n",
    "\n",
    "file = 'configuration_proto.xlsx'\n",
    "sheet_name='Settings'\n",
    "settings_table = pd.read_excel(file, sheet_name=sheet_name, index_col='Item')\n",
    "\n",
    "edc_folder = settings_table.loc['edc_folder']['Value']\n",
    "proto_castor_folder = settings_table.loc['proto_castor_folder']['Value']\n",
    "study_name = settings_table.loc['study_name']['Value']\n",
    "recordid = settings_table.loc['recordid']['Value']\n",
    "study_daily = study_name + settings_table.loc['study_daily']['Value']\n",
    "study_base = study_name + settings_table.loc['study_base']['Value']\n",
    "separator = settings_table.loc['separator']['Value']"
   ]
  },
  {
   "cell_type": "code",
   "execution_count": null,
   "id": "e96d4a79-cfd5-40c9-aac8-7a4be842ac12",
   "metadata": {},
   "outputs": [
    {
     "name": "stdout",
     "output_type": "stream",
     "text": [
      "./EDC/\n",
      "******************************************************************************************\n",
      "Choose source by number\n",
      "------------------------------------------------------------------------------------------\n",
      "\n",
      "\n"
     ]
    }
   ],
   "source": [
    "# When \n",
    "\n",
    "# move Castor zips from inbox when manually uploaded to a Workspace\n",
    "source_folder = 'z:/inbox/'\n",
    "gf.move_files(study_name+'*.zip', source_folder, edc_folder)\n",
    "\n",
    "#extract potential zip files\n",
    "gf.find_unpack_zips(edc_folder, 6)\n",
    "\n",
    "# gf.print_title('Choose the source for the Study')\n",
    "study_dir = gf.choose_dir_item(edc_folder,'folders',study_name)\n",
    "study_daily = edc_folder + study_dir + '/' + study_daily  + study_dir[-9:] + '.csv'\n",
    "study_base = edc_folder + study_dir + '/' + study_base  + study_dir[-9:] + '.csv'"
   ]
  },
  {
   "cell_type": "code",
   "execution_count": null,
   "id": "93746b8f-e92e-4f8f-a76c-d30bb35f8ed7",
   "metadata": {},
   "outputs": [],
   "source": [
    "# creating the pandas\n",
    "df_castor_daily = pd.read_csv(study_daily, sep=separator, dtype='string')\n",
    "df_castor_base = pd.read_csv(study_base, sep=separator, dtype='string')\n",
    "\n",
    "df_castor_daily.sort_values([recordid], ascending=True, inplace=True)\n",
    "df_castor_base.sort_values([recordid], ascending=True, inplace=True)\n",
    "\n",
    "# creating list with base and daily\n",
    "study_dfs = [df_castor_daily, df_castor_base]"
   ]
  },
  {
   "cell_type": "code",
   "execution_count": null,
   "id": "0f87a0ca-1a76-467a-9747-d64ce546a6de",
   "metadata": {},
   "outputs": [],
   "source": [
    "# Add base to daily for eacht participant-day\n",
    "## create list of all base variables except Record Id\n",
    "base_variables = list(df_castor_base.columns)\n",
    "daily_variables = list(df_castor_daily.columns)\n",
    "\n",
    "## list with variables to remove\n",
    "remove_base_variables = [recordid, 'Unnamed: 758']\n",
    "\n",
    "## remove the variables\n",
    "base_variables = list(set(base_variables)-set(remove_base_variables))\n",
    "\n",
    "#check and if necessary rename base variable when it exists in daily\n",
    "for item in base_variables:\n",
    "    if item in daily_variables:\n",
    "        df_castor_base.rename(columns={item: 'DUB_'+item}, inplace=True)\n",
    "\n",
    "## copy df_eracore_daily to df_eracore and add base_variables to df_eracore\n",
    "df_castor = df_castor_daily.copy()\n",
    "df_castor[base_variables] = ''\n",
    "\n",
    "\n",
    "## add base values to the right records\n",
    "def add_base_values(Id):\n",
    "    try:\n",
    "        df_castor.loc[df_castor[recordid]==Id, base_variables] = \\\n",
    "        df_castor_base.loc[df_castor_base[recordid]==Id, base_variables].values\n",
    "        return Id\n",
    "    except:\n",
    "        pass\n",
    "\n",
    "temp = [add_base_values(Id) for Id in df_castor_base[recordid]]\n",
    "for Id in df_castor_base[recordid]:\n",
    "    add_base_values(Id)\n",
    "\n",
    "\n",
    "## remove base and daily from memory\n",
    "del df_castor_daily\n",
    "del df_castor_base\n",
    "del study_dfs"
   ]
  },
  {
   "cell_type": "code",
   "execution_count": null,
   "id": "06b12afa-fd0a-4fa1-8d5c-5be829f65c81",
   "metadata": {},
   "outputs": [],
   "source": [
    "# Saving the prot-Castor both as .sx.sx as csv\n",
    "output_path = './proto-Castor'\n",
    "df_castor.to_excel(output_path+ '/Proto-Castor.xlsx', index=False)\n",
    "gf.output_csv(df_castor, output_path+'/Proto-Castor', False)\n",
    "\n",
    "print('\\n'*2)\n",
    "gf.print_title('Finished creating Proto-'+study_name)"
   ]
  },
  {
   "cell_type": "code",
   "execution_count": null,
   "id": "4d1da417-f63e-451a-a82e-cf6db4097dd2",
   "metadata": {},
   "outputs": [],
   "source": []
  }
 ],
 "metadata": {
  "kernelspec": {
   "display_name": "Python 3 (ipykernel)",
   "language": "python",
   "name": "python3"
  },
  "language_info": {
   "codemirror_mode": {
    "name": "ipython",
    "version": 3
   },
   "file_extension": ".py",
   "mimetype": "text/x-python",
   "name": "python",
   "nbconvert_exporter": "python",
   "pygments_lexer": "ipython3",
   "version": "3.8.11"
  }
 },
 "nbformat": 4,
 "nbformat_minor": 5
}
