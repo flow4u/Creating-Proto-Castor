{
 "cells": [
  {
   "cell_type": "markdown",
   "id": "fe40b09b-c646-41d7-86c8-5f69f67b0869",
   "metadata": {},
   "source": [
    "# Creating a Proto-Castor\n",
    "\n",
    "Proto-Castor is the daily to which is added per record the base. This Jupyter Notebook is optimized for myDRE Workspace using OSDS template.\n",
    "\n",
    "Use **configuration.xlsx** to change the variables.\n",
    "\n",
    "Upload Castor export as zipt to Workspace, choose as target: ./EDC.\n",
    "\n",
    "If the zip ends up in transfer (so not in ./EDC), the script will deal with it."
   ]
  },
  {
   "cell_type": "code",
   "execution_count": 1,
   "id": "a5bf6434-b51c-48c2-9736-c0d420127332",
   "metadata": {},
   "outputs": [],
   "source": [
    "import pandas as pd\n",
    "import shutil\n",
    "import glob\n",
    "import generic_functions2 as gf"
   ]
  },
  {
   "cell_type": "code",
   "execution_count": 2,
   "id": "6a4a3e1d-cfe0-45e0-8c70-1cef84ba3c44",
   "metadata": {},
   "outputs": [],
   "source": [
    "# Settings\n",
    "\n",
    "file = 'configuration_proto.xlsx'\n",
    "sheet_name='Settings'\n",
    "settings_table = pd.read_excel(file, sheet_name=sheet_name, index_col='Item')\n",
    "\n",
    "edc_folder = settings_table.loc['edc_folder']['Value']\n",
    "proto_castor_folder = settings_table.loc['proto_castor_folder']['Value']\n",
    "study_name = settings_table.loc['study_name']['Value']\n",
    "recordid = settings_table.loc['recordid']['Value']\n",
    "study_daily = study_name + settings_table.loc['study_daily']['Value']\n",
    "study_base = study_name + settings_table.loc['study_base']['Value']\n",
    "separator = settings_table.loc['separator']['Value']"
   ]
  },
  {
   "cell_type": "code",
   "execution_count": 3,
   "id": "e96d4a79-cfd5-40c9-aac8-7a4be842ac12",
   "metadata": {},
   "outputs": [
    {
     "name": "stdout",
     "output_type": "stream",
     "text": [
      "./EDC/\n",
      "******************************************************************************************\n",
      "Choose source by number\n",
      "------------------------------------------------------------------------------------------\n",
      "\n",
      "\n"
     ]
    },
    {
     "ename": "KeyboardInterrupt",
     "evalue": "Interrupted by user",
     "output_type": "error",
     "traceback": [
      "\u001b[1;31m---------------------------------------------------------------------------\u001b[0m",
      "\u001b[1;31mKeyboardInterrupt\u001b[0m                         Traceback (most recent call last)",
      "\u001b[1;32m<ipython-input-3-935b10fa5010>\u001b[0m in \u001b[0;36m<module>\u001b[1;34m\u001b[0m\n\u001b[0;32m      9\u001b[0m \u001b[1;33m\u001b[0m\u001b[0m\n\u001b[0;32m     10\u001b[0m \u001b[1;31m# gf.print_title('Choose the source for the Study')\u001b[0m\u001b[1;33m\u001b[0m\u001b[1;33m\u001b[0m\u001b[1;33m\u001b[0m\u001b[0m\n\u001b[1;32m---> 11\u001b[1;33m \u001b[0mstudy_dir\u001b[0m \u001b[1;33m=\u001b[0m \u001b[0mgf\u001b[0m\u001b[1;33m.\u001b[0m\u001b[0mchoose_dir_item\u001b[0m\u001b[1;33m(\u001b[0m\u001b[0medc_folder\u001b[0m\u001b[1;33m,\u001b[0m\u001b[1;34m'folders'\u001b[0m\u001b[1;33m,\u001b[0m\u001b[0mstudy_name\u001b[0m\u001b[1;33m)\u001b[0m\u001b[1;33m\u001b[0m\u001b[1;33m\u001b[0m\u001b[0m\n\u001b[0m\u001b[0;32m     12\u001b[0m \u001b[0mstudy_daily\u001b[0m \u001b[1;33m=\u001b[0m \u001b[0medc_folder\u001b[0m \u001b[1;33m+\u001b[0m \u001b[0mstudy_dir\u001b[0m \u001b[1;33m+\u001b[0m \u001b[1;34m'/'\u001b[0m \u001b[1;33m+\u001b[0m \u001b[0mstudy_daily\u001b[0m  \u001b[1;33m+\u001b[0m \u001b[0mstudy_dir\u001b[0m\u001b[1;33m[\u001b[0m\u001b[1;33m-\u001b[0m\u001b[1;36m9\u001b[0m\u001b[1;33m:\u001b[0m\u001b[1;33m]\u001b[0m \u001b[1;33m+\u001b[0m \u001b[1;34m'.csv'\u001b[0m \u001b[1;31m#study_name + '_Daily_case_record_form_export' + study_dir[-9:] + '.csv'\u001b[0m\u001b[1;33m\u001b[0m\u001b[1;33m\u001b[0m\u001b[0m\n\u001b[0;32m     13\u001b[0m \u001b[0mstudy_base\u001b[0m \u001b[1;33m=\u001b[0m \u001b[0medc_folder\u001b[0m \u001b[1;33m+\u001b[0m \u001b[0mstudy_dir\u001b[0m \u001b[1;33m+\u001b[0m \u001b[1;34m'/'\u001b[0m \u001b[1;33m+\u001b[0m \u001b[0mstudy_base\u001b[0m  \u001b[1;33m+\u001b[0m \u001b[0mstudy_dir\u001b[0m\u001b[1;33m[\u001b[0m\u001b[1;33m-\u001b[0m\u001b[1;36m9\u001b[0m\u001b[1;33m:\u001b[0m\u001b[1;33m]\u001b[0m \u001b[1;33m+\u001b[0m \u001b[1;34m'.csv'\u001b[0m \u001b[1;31m#study_name + '_export' + study_dir[-9:] + '.csv'\u001b[0m\u001b[1;33m\u001b[0m\u001b[1;33m\u001b[0m\u001b[0m\n",
      "\u001b[1;32mE:\\Development\\Creating Proto-Castor\\generic_functions2.py\u001b[0m in \u001b[0;36mchoose_dir_item\u001b[1;34m(folder, type, what)\u001b[0m\n\u001b[0;32m     95\u001b[0m     \u001b[0mitem_choosen\u001b[0m \u001b[1;33m=\u001b[0m \u001b[1;32mFalse\u001b[0m\u001b[1;33m\u001b[0m\u001b[1;33m\u001b[0m\u001b[0m\n\u001b[0;32m     96\u001b[0m     \u001b[1;32mwhile\u001b[0m \u001b[0mitem_choosen\u001b[0m \u001b[1;33m==\u001b[0m \u001b[1;32mFalse\u001b[0m\u001b[1;33m:\u001b[0m\u001b[1;33m\u001b[0m\u001b[1;33m\u001b[0m\u001b[0m\n\u001b[1;32m---> 97\u001b[1;33m         \u001b[0mthis_answer\u001b[0m \u001b[1;33m=\u001b[0m \u001b[0mchoose_retry\u001b[0m\u001b[1;33m(\u001b[0m\u001b[0mstr\u001b[0m\u001b[1;33m(\u001b[0m\u001b[1;36m1\u001b[0m\u001b[1;33m)\u001b[0m \u001b[1;33m+\u001b[0m \u001b[1;34m' and '\u001b[0m \u001b[1;33m+\u001b[0m \u001b[0mstr\u001b[0m\u001b[1;33m(\u001b[0m\u001b[0mcount\u001b[0m \u001b[1;33m+\u001b[0m \u001b[1;36m1\u001b[0m\u001b[1;33m)\u001b[0m\u001b[1;33m)\u001b[0m\u001b[1;33m\u001b[0m\u001b[1;33m\u001b[0m\u001b[0m\n\u001b[0m\u001b[0;32m     98\u001b[0m         \u001b[1;32mtry\u001b[0m\u001b[1;33m:\u001b[0m\u001b[1;33m\u001b[0m\u001b[1;33m\u001b[0m\u001b[0m\n\u001b[0;32m     99\u001b[0m             \u001b[1;32mif\u001b[0m \u001b[0mint\u001b[0m\u001b[1;33m(\u001b[0m\u001b[0mthis_answer\u001b[0m\u001b[1;33m)\u001b[0m \u001b[1;33m>\u001b[0m \u001b[1;36m0\u001b[0m \u001b[1;32mand\u001b[0m \u001b[0mint\u001b[0m\u001b[1;33m(\u001b[0m\u001b[0mthis_answer\u001b[0m\u001b[1;33m)\u001b[0m \u001b[1;33m<=\u001b[0m \u001b[0mcount\u001b[0m \u001b[1;33m+\u001b[0m \u001b[1;36m1\u001b[0m\u001b[1;33m:\u001b[0m\u001b[1;33m\u001b[0m\u001b[1;33m\u001b[0m\u001b[0m\n",
      "\u001b[1;32mE:\\Development\\Creating Proto-Castor\\generic_functions2.py\u001b[0m in \u001b[0;36mchoose_retry\u001b[1;34m(text)\u001b[0m\n\u001b[0;32m    148\u001b[0m     \u001b[0mThis\u001b[0m \u001b[0mgeneric\u001b[0m \u001b[0mfunction\u001b[0m \u001b[0mreturns\u001b[0m \u001b[0mthe\u001b[0m \u001b[0minput\u001b[0m \u001b[1;32mfrom\u001b[0m \u001b[0mthe\u001b[0m \u001b[0muser\u001b[0m\u001b[1;33m.\u001b[0m\u001b[1;33m\u001b[0m\u001b[1;33m\u001b[0m\u001b[0m\n\u001b[0;32m    149\u001b[0m     '''\n\u001b[1;32m--> 150\u001b[1;33m     \u001b[1;32mreturn\u001b[0m \u001b[0minput\u001b[0m\u001b[1;33m(\u001b[0m\u001b[1;34m'Please choose Q(uit) or between '\u001b[0m\u001b[1;33m+\u001b[0m \u001b[0mtext\u001b[0m \u001b[1;33m+\u001b[0m \u001b[1;34m': '\u001b[0m\u001b[1;33m)\u001b[0m\u001b[1;33m\u001b[0m\u001b[1;33m\u001b[0m\u001b[0m\n\u001b[0m\u001b[0;32m    151\u001b[0m \u001b[1;33m\u001b[0m\u001b[0m\n\u001b[0;32m    152\u001b[0m \u001b[1;33m\u001b[0m\u001b[0m\n",
      "\u001b[1;32m~\\AppData\\Roaming\\Python\\Python38\\site-packages\\ipykernel\\kernelbase.py\u001b[0m in \u001b[0;36mraw_input\u001b[1;34m(self, prompt)\u001b[0m\n\u001b[0;32m    846\u001b[0m                 \u001b[1;34m\"raw_input was called, but this frontend does not support input requests.\"\u001b[0m\u001b[1;33m\u001b[0m\u001b[1;33m\u001b[0m\u001b[0m\n\u001b[0;32m    847\u001b[0m             )\n\u001b[1;32m--> 848\u001b[1;33m         return self._input_request(str(prompt),\n\u001b[0m\u001b[0;32m    849\u001b[0m             \u001b[0mself\u001b[0m\u001b[1;33m.\u001b[0m\u001b[0m_parent_ident\u001b[0m\u001b[1;33m,\u001b[0m\u001b[1;33m\u001b[0m\u001b[1;33m\u001b[0m\u001b[0m\n\u001b[0;32m    850\u001b[0m             \u001b[0mself\u001b[0m\u001b[1;33m.\u001b[0m\u001b[0m_parent_header\u001b[0m\u001b[1;33m,\u001b[0m\u001b[1;33m\u001b[0m\u001b[1;33m\u001b[0m\u001b[0m\n",
      "\u001b[1;32m~\\AppData\\Roaming\\Python\\Python38\\site-packages\\ipykernel\\kernelbase.py\u001b[0m in \u001b[0;36m_input_request\u001b[1;34m(self, prompt, ident, parent, password)\u001b[0m\n\u001b[0;32m    890\u001b[0m             \u001b[1;32mexcept\u001b[0m \u001b[0mKeyboardInterrupt\u001b[0m\u001b[1;33m:\u001b[0m\u001b[1;33m\u001b[0m\u001b[1;33m\u001b[0m\u001b[0m\n\u001b[0;32m    891\u001b[0m                 \u001b[1;31m# re-raise KeyboardInterrupt, to truncate traceback\u001b[0m\u001b[1;33m\u001b[0m\u001b[1;33m\u001b[0m\u001b[1;33m\u001b[0m\u001b[0m\n\u001b[1;32m--> 892\u001b[1;33m                 \u001b[1;32mraise\u001b[0m \u001b[0mKeyboardInterrupt\u001b[0m\u001b[1;33m(\u001b[0m\u001b[1;34m\"Interrupted by user\"\u001b[0m\u001b[1;33m)\u001b[0m \u001b[1;32mfrom\u001b[0m \u001b[1;32mNone\u001b[0m\u001b[1;33m\u001b[0m\u001b[1;33m\u001b[0m\u001b[0m\n\u001b[0m\u001b[0;32m    893\u001b[0m             \u001b[1;32mexcept\u001b[0m \u001b[0mException\u001b[0m \u001b[1;32mas\u001b[0m \u001b[0me\u001b[0m\u001b[1;33m:\u001b[0m\u001b[1;33m\u001b[0m\u001b[1;33m\u001b[0m\u001b[0m\n\u001b[0;32m    894\u001b[0m                 \u001b[0mself\u001b[0m\u001b[1;33m.\u001b[0m\u001b[0mlog\u001b[0m\u001b[1;33m.\u001b[0m\u001b[0mwarning\u001b[0m\u001b[1;33m(\u001b[0m\u001b[1;34m\"Invalid Message:\"\u001b[0m\u001b[1;33m,\u001b[0m \u001b[0mexc_info\u001b[0m\u001b[1;33m=\u001b[0m\u001b[1;32mTrue\u001b[0m\u001b[1;33m)\u001b[0m\u001b[1;33m\u001b[0m\u001b[1;33m\u001b[0m\u001b[0m\n",
      "\u001b[1;31mKeyboardInterrupt\u001b[0m: Interrupted by user"
     ]
    }
   ],
   "source": [
    "# When \n",
    "\n",
    "# move Castor zips from inbox when manually uploaded to a Workspace\n",
    "source_folder = 'z:/inbox/'\n",
    "gf.move_files(study_name+'*.zip', source_folder, edc_folder)\n",
    "\n",
    "#extract potential zip files\n",
    "gf.find_unpack_zips(edc_folder, 6)\n",
    "\n",
    "# gf.print_title('Choose the source for the Study')\n",
    "study_dir = gf.choose_dir_item(edc_folder,'folders',study_name)\n",
    "study_daily = edc_folder + study_dir + '/' + study_daily  + study_dir[-9:] + '.csv' #study_name + '_Daily_case_record_form_export' + study_dir[-9:] + '.csv'\n",
    "study_base = edc_folder + study_dir + '/' + study_base  + study_dir[-9:] + '.csv' #study_name + '_export' + study_dir[-9:] + '.csv'"
   ]
  },
  {
   "cell_type": "code",
   "execution_count": null,
   "id": "93746b8f-e92e-4f8f-a76c-d30bb35f8ed7",
   "metadata": {},
   "outputs": [],
   "source": [
    "# creating the pandas\n",
    "df_castor_daily = pd.read_csv(study_daily, sep=separator, dtype='string')\n",
    "df_castor_base = pd.read_csv(study_base, sep=separator, dtype='string')\n",
    "\n",
    "df_castor_daily.sort_values([recordid], ascending=True, inplace=True)\n",
    "df_castor_base.sort_values([recordid], ascending=True, inplace=True)\n",
    "\n",
    "# creating list with base and daily\n",
    "study_dfs = [df_castor_daily, df_castor_base]"
   ]
  },
  {
   "cell_type": "code",
   "execution_count": null,
   "id": "0f87a0ca-1a76-467a-9747-d64ce546a6de",
   "metadata": {},
   "outputs": [],
   "source": [
    "# Add base to daily for eacht participant-day\n",
    "## create list of all base variables except Record Id\n",
    "base_variables = list(df_castor_base.columns)\n",
    "\n",
    "## list with variables to remove\n",
    "remove_base_variables = [recordid, 'Unnamed: 758']\n",
    "\n",
    "## remove the variables\n",
    "base_variables = list(set(base_variables)-set(remove_base_variables))\n",
    "\n",
    "## copy df_eracore_daily to df_eracore and add base_variables to df_eracore\n",
    "df_castor = df_castor_daily.copy()\n",
    "df_castor[base_variables] = ''\n",
    "\n",
    "\n",
    "## add base values to the right records\n",
    "def add_base_values(Id):\n",
    "    try:\n",
    "        df_castor.loc[df_castor[recordid]==Id, base_variables] = \\\n",
    "        df_castor_base.loc[df_castor_base[recordid]==Id, base_variables].values\n",
    "        return Id\n",
    "    except:\n",
    "        pass\n",
    "\n",
    "temp = [add_base_values(Id) for Id in df_castor_base[recordid]]\n",
    "for Id in df_castor_base[recordid]:\n",
    "    add_base_values(Id)\n",
    "\n",
    "\n",
    "## remove base and daily from memory\n",
    "del df_castor_daily\n",
    "del df_castor_base\n",
    "del study_dfs"
   ]
  },
  {
   "cell_type": "code",
   "execution_count": null,
   "id": "06b12afa-fd0a-4fa1-8d5c-5be829f65c81",
   "metadata": {},
   "outputs": [],
   "source": [
    "# Saving the prot-Castor both as .sx.sx as csv\n",
    "output_path = './proto-Castor'\n",
    "df_castor.to_excel(output_path+ '/Proto-Castor.xlsx', index=False)\n",
    "gf.output_csv(df_castor, output_path+'/Proto-Castor', False)\n",
    "\n",
    "print('\\n'*2)\n",
    "gf.print_title('Finished creating Proto-'+study_name)"
   ]
  },
  {
   "cell_type": "code",
   "execution_count": null,
   "id": "4d1da417-f63e-451a-a82e-cf6db4097dd2",
   "metadata": {},
   "outputs": [],
   "source": []
  }
 ],
 "metadata": {
  "kernelspec": {
   "display_name": "Python 3 (ipykernel)",
   "language": "python",
   "name": "python3"
  },
  "language_info": {
   "codemirror_mode": {
    "name": "ipython",
    "version": 3
   },
   "file_extension": ".py",
   "mimetype": "text/x-python",
   "name": "python",
   "nbconvert_exporter": "python",
   "pygments_lexer": "ipython3",
   "version": "3.8.11"
  }
 },
 "nbformat": 4,
 "nbformat_minor": 5
}
